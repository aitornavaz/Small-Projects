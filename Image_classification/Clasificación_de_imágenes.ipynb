{
 "cells": [
  {
   "cell_type": "markdown",
   "source": [
    " # Trabajo final\n",
    "###### Aitor Uranga e Igor Vons\n",
    "El código está dividido en 3 secciones. Estas a su vez en varias partes.\n",
    "\n",
    "La [primera sección](#S1) contiene todas las declaraciones de las funciones. Tiene 5 partes:\n",
    "- En la [1](#S1P1), se declaran las funciones para implementar los métodos de extracción de características expuestos en la primera parte de la guía.\n",
    "- En la [2](#S1P2), se declaran las que hacen falta para implementar la segunda.\n",
    "- En la [3](#S1P3) están dos funciones adicionales usadas para poder dividir las imágenes en un mismo número de celdas sin tener que recurrir a deformar las imágenes a un tamaño determinado para poder tener un vector de características de igual longitud para todas la imágenes.\n",
    "- La [4](#S1P4) ofrece una agrupación de las anteriores, así como las funciones necesarias para tratar, cargar y combinar datasets\n",
    "- La [5](#S1P5) tiene la declaración de las funciones usadas para generar, almacenar y cargar datasets ya convertidos a vectores de características. Así se consigue realizar pruebas de manera más ágil, porque la extracción de características es un cómputo bastante costoso.\n",
    "\n",
    "La [segunda sección](#S2) ejecuta el código necesario para estandarizar las imágenes y que encajen para ser divididas en un número fijo de celdas:\n",
    "- En la [parte 1](#S2P1) se obtienen los tamaños de las celdas en las que se dividirán las imágenes, así como su disposición y se recortan los bordes para dejar solo una imagen del tamaño correcto. Estas imágenes se almacenan en directorios similares a los originales, añadiendo el número de celdas a las que se las ha ajustado al final.\n",
    "- En la [2](#S2P2), se almacenan las imágenes de entrenamiento y evaluación, así como sus tamaños de celda en un diccionario que se vaya a usar de referencia.\n",
    "- En la [3](#S2P3), mediante la combinación de distintos parámetros posibles, generamos un conjunto de datos ya vectorizados y los almacenamos en archivos .csv para poder posteriormente cargarlos más rápidamente para realizar pruebas.\n",
    "\n",
    "La [tercera sección](#S3) es en la que se realiza el entrenamiento y evaluación de diversos modelos que podemos encontrar en la librería de 'sklearn'.\n",
    "- En la [parte 1](#S3P1) se declaran funciones con las que manejar los clasificadores a probar. Esto es para poder hallar más fácilmente la combinación de parámetros usados en la extracción y los usados para inicializar el clasificador en sí.\n",
    "- En la [2](#S3P2) ejecutamos un bucle que iterara sobre los parámetros usados en las extracciones de características anteriores. Crea un ranking de modelos en base a la precisión de predicciones en el conjunto de test.\n",
    "- En la [3](#S3P3) podemos finalmente probar el desempeño del modelo que elijamos a partir de los datos obtenidos en el código anterior sobre el dataset principal de 500 imágenes."
   ],
   "metadata": {
    "collapsed": false
   }
  },
  {
   "cell_type": "markdown",
   "source": [
    "## <a name=\"S1\"></a>Sección 1"
   ],
   "metadata": {
    "collapsed": false
   }
  },
  {
   "cell_type": "code",
   "execution_count": 1,
   "outputs": [],
   "source": [
    "import cv2\n",
    "import numpy as np\n",
    "from collections import Counter\n",
    "import os\n",
    "import imageio.v3 as imageio\n",
    "import sys\n",
    "from skimage.color import rgb2gray\n",
    "import shutil\n",
    "from tqdm import tqdm\n",
    "import itertools"
   ],
   "metadata": {
    "collapsed": false
   }
  },
  {
   "cell_type": "markdown",
   "source": [
    "#### 1. <a name=\"S1P1\"></a>Extracción de características 1"
   ],
   "metadata": {
    "collapsed": false
   }
  },
  {
   "cell_type": "code",
   "execution_count": 2,
   "outputs": [],
   "source": [
    "def uniform_transition_bins():\n",
    "    \"\"\"\n",
    "    Comprueba que secuencias binarias de longitud 8 tienen dos o menos transiciones de 0 a 1 o de 1 a 0.\n",
    "    :return:\n",
    "        ndarray sequences: Lista numpy con True para las posiciones que no tengan transiciones de longitud 2 o más y False en caso contrario\n",
    "    \"\"\"\n",
    "\n",
    "    # Inicializar una lista para almacenar las secuencias\n",
    "    sequences = []\n",
    "    # Iterar sobre todas las secuencias binarias de 8 bits posibles\n",
    "    for i in range(2**8):\n",
    "        # Convertir el entero a una cadena binaria\n",
    "        sequence = format(i, '08b')\n",
    "\n",
    "        # Contar el número de transiciones de 0 a 1 o de 1 a 0\n",
    "        transitions = 0\n",
    "        for j in range(7):\n",
    "            if sequence[j] != sequence[j+1]:\n",
    "                transitions += 1\n",
    "\n",
    "        # Si hay más de dos transiciones, considerarlo una transición no uniforme\n",
    "        if transitions > 2:\n",
    "            sequences.append(False)\n",
    "        else:\n",
    "            sequences.append(True)\n",
    "\n",
    "    sequences = np.array(sequences)\n",
    "    return sequences"
   ],
   "metadata": {
    "collapsed": false
   }
  },
  {
   "cell_type": "code",
   "execution_count": 3,
   "outputs": [],
   "source": [
    "def cell_to_columns(cell, n, m, color=False):\n",
    "    \"\"\"\n",
    "    Convierte una imagen en una matriz de columnas, donde cada una es el binario obtenido de la celda que rodea cada pixel.\n",
    "\n",
    "    :param ndarray cell: Una imagen.\n",
    "    :param int n: Tamaño vertical de la celda.\n",
    "    :param int m: Tamaño horizontal de la celda.\n",
    "    :param bool color: Indica si la imagen es rgb o escala de grises.\n",
    "\n",
    "    :return:\n",
    "        ndarray im2: Una matriz columnas de 8 elementos binarios.\n",
    "    \"\"\"\n",
    "\n",
    "    # Obtener el número de filas y columnas de la imagen\n",
    "    filas, columnas = cell.shape[0], cell.shape[1]\n",
    "    a, b = 1, 1\n",
    "\n",
    "    # Inicializar la matriz de características de celdas binarias\n",
    "    img2 = np.zeros((n*m, (filas-2)*(columnas-2)))\n",
    "\n",
    "    # Iterar sobre cada celda de la imagen\n",
    "    aux = 0\n",
    "    for i in range(1, filas-1):\n",
    "        for j in range(1, columnas-1):\n",
    "            # Obtener el valor binario de la celda\n",
    "            if color:\n",
    "                img2[:, aux] = ((cell[i-a:i+a+1, j-b:j+b+1].mean(axis = 2))>(cell[i,j].mean())).flatten()\n",
    "            else:\n",
    "                img2[:, aux] = (cell[i - a:i + a + 1, j - b:j + b + 1] > cell[i, j]).flatten()\n",
    "\n",
    "            # Reordenar los valores binarios para colocarlos en sentido horario\n",
    "            hardcoded_indx =[1,2,5,8,7,6,3,0,4]\n",
    "            img2[:, aux] = img2[:, aux][hardcoded_indx]\n",
    "\n",
    "            aux += 1\n",
    "    # Eliminamos última fila porque es el elemento central y solo queremos 8 bits\n",
    "    img2 = img2[:-1,:]\n",
    "\n",
    "    return img2"
   ],
   "metadata": {
    "collapsed": false
   }
  },
  {
   "cell_type": "code",
   "execution_count": 4,
   "outputs": [],
   "source": [
    "def get_cell_histogram(cell, uniform_transitions=None):\n",
    "    \"\"\"\n",
    "    Obtiene las características de una celda en una imagen binaria.\n",
    "\n",
    "    :param ndarray cell: Una celda de la imagen previeamente transformada por cell_to_columns.\n",
    "    :param ndarray uniform_transitions: Una lista opcional de booleanos indicando las posiciones del histograma que no comprimir en uno.\n",
    "\n",
    "    :return: Un vector de características de la celda.\n",
    "    \"\"\"\n",
    "\n",
    "    # Convertir las columnas de 8 elementos binarios (0 o 1) en numeros\n",
    "    vec = np.packbits(cell, axis = 0)\n",
    "\n",
    "    # Calcular el histograma de la matriz empaquetada\n",
    "    h = cv2.calcHist([vec],[0],None,[256],[0,256]).flatten()\n",
    "\n",
    "    # Si se proporcionan una lista de valores uniformes, insertar el agragado de transiciones no uniformes al principio del histograma\n",
    "    if uniform_transitions is not None:\n",
    "        not_uniform = h[(uniform_transitions == False)].sum()\n",
    "        h = np.insert(h[uniform_transitions], 0, not_uniform)\n",
    "\n",
    "    return h"
   ],
   "metadata": {
    "collapsed": false
   }
  },
  {
   "cell_type": "code",
   "execution_count": 5,
   "outputs": [],
   "source": [
    "def get_image_characteristics_vector_1(img, size, version='v1'):\n",
    "    \"\"\"\n",
    "    Extrae el vector de características de una imagen.\n",
    "\n",
    "    :param ndarray img: Una imagen en blanco y negro.\n",
    "    :param int size: El tamaño del lado de las celdas en las que dividir la imagen.\n",
    "    :param version: v1 es la version de la funcion que no aplica la discriminacion por transiciones uniformes o no en el histograma.\n",
    "                    v2 si aplica esta diferenciacion.\n",
    "\n",
    "    :return: Un vector de características de la imagen.\n",
    "    \"\"\"\n",
    "\n",
    "    # Inicializar la matriz de características\n",
    "    v_caracteristics = np.array([])\n",
    "\n",
    "    #Determina si la imagen es a color o no\n",
    "    color = len(img.shape) > 2\n",
    "\n",
    "    if version == 'v2':\n",
    "        # Obtener la secuencia de transiciónes uniformes\n",
    "        uniform_transitions = uniform_transition_bins()\n",
    "\n",
    "    # Añadir bordes a la imagen\n",
    "    img = cv2.copyMakeBorder(img, 1, 1, 1, 1, cv2.BORDER_REPLICATE)\n",
    "\n",
    "    # Iterar sobre cada celda de la imagen\n",
    "    for i in range(0, img.shape[0], size):\n",
    "        for j in range(0, img.shape[1], size):\n",
    "            # Obtener el vector de características de la celda\n",
    "            img2 = np.uint8(cell_to_columns(img[i:i + size + 2, j:j + size + 2], 3, 3, color=color))\n",
    "            if version == 'v2':\n",
    "                h = (get_cell_histogram(img2, uniform_transitions))\n",
    "            else:\n",
    "                h = (get_cell_histogram(img2))\n",
    "\n",
    "            # Añadir las características de la celda al vector de características de la imagen\n",
    "            v_caracteristics = np.concatenate((v_caracteristics,h))\n",
    "\n",
    "    return v_caracteristics"
   ],
   "metadata": {
    "collapsed": false
   }
  },
  {
   "cell_type": "markdown",
   "source": [
    "#### <a name=\"S1P2\"></a>2. Extracción de caracteristícas 2"
   ],
   "metadata": {
    "collapsed": false
   }
  },
  {
   "cell_type": "code",
   "execution_count": 6,
   "outputs": [],
   "source": [
    "def apply_filter(image, mask):\n",
    "    \"\"\"\n",
    "    Aplica un filtro a la imagen dada utilizando la máscara especificada.\n",
    "\n",
    "    :param ndarray image: La imagen a la que se aplicará el filtro.\n",
    "    :param ndarray mask: La máscara que se utilizará para aplicar el filtro.\n",
    "\n",
    "    :return:\n",
    "        ndarray img: La imagen filtrada.\n",
    "    \"\"\"\n",
    "    # Hacer una copia de la imagen y convertirla en un array de punto flotante\n",
    "    img = np.copy(np.float32(image))\n",
    "\n",
    "    # Obtener el tamaño de la máscara y calcular la distancia del centro al borde\n",
    "    ni, nj = mask.shape\n",
    "    mi, mj = ni//2, nj//2\n",
    "\n",
    "    # Añadir un borde a la imagen utilizando el tamaño de la mitad de la máscara como tamaño del borde\n",
    "    image_padded = cv2.copyMakeBorder(img, mi, mi, mj, mj, cv2.BORDER_REPLICATE)\n",
    "\n",
    "    # Recorrer todos los píxeles de la imagen\n",
    "    for i in range(img.shape[0]):\n",
    "        for j in range(img.shape[1]):\n",
    "            # Aplicar la convolución al píxel actual multiplicando la máscara\n",
    "            # con la región correspondiente de la imagen (con el borde añadido)\n",
    "            # y sumando los valores resultantes\n",
    "            img[i, j] = (image_padded[i:i+ni, j:j+nj] * mask).sum()\n",
    "\n",
    "    # Devolver la imagen modificada\n",
    "    return img"
   ],
   "metadata": {
    "collapsed": false
   }
  },
  {
   "cell_type": "code",
   "execution_count": 7,
   "outputs": [],
   "source": [
    "def gradient(img, grad_type='prewitt'):\n",
    "    \"\"\"\n",
    "    Calcula el gradiente de una imagen utilizando los filtros de Prewitt o Sobel.\n",
    "\n",
    "    :param ndarray img: Imagen de entrada.\n",
    "    :param str grad_type: Tipo de gradiente a utilizar ('prewitt' o 'sobel').\n",
    "\n",
    "    :return:\n",
    "        ndarray e: Magnitud del gradiente.\n",
    "        ndarray phi: Dirección del gradiente.\n",
    "    \"\"\"\n",
    "    # Convierte la imagen a un array numpy de float32\n",
    "    im = np.float32(img)\n",
    "\n",
    "    # Define los filtros de gradiente\n",
    "    if grad_type=='prewitt':\n",
    "        # Filtros de gradiente de Prewitt\n",
    "        m_g_x = np.array([[-1, -1, -1], [0, 0, 0], [1, 1, 1]])\n",
    "        m_g_y = np.array([[-1, 0, 1], [-1, 0, 1], [-1, 0, 1]])\n",
    "    elif grad_type=='sobel':\n",
    "        # Filtros de gradiente de Sobel\n",
    "        m_g_x = np.array([[-1, -2, -1], [0, 0, 0], [1, 2, 1]])\n",
    "        m_g_y = np.array([[-1, 0, 1], [-2, 0, 2], [-1, 0, 1]])\n",
    "    else:\n",
    "        # Tipo de gradiente desconocido\n",
    "        sys.exit(f'Unknown gradient type \\'{grad_type}\\'')\n",
    "\n",
    "    # Aplica los filtros de gradiente a la imagen\n",
    "    imx = apply_filter(im, m_g_x)\n",
    "    imy = apply_filter(im, m_g_y)\n",
    "\n",
    "    # Calcula la magnitud y dirección del gradiente\n",
    "    e = np.sqrt(imx**2 + imy**2)\n",
    "    phi = np.rad2deg(np.arctan2(imy, imx))\n",
    "\n",
    "    # Devuelve la magnitud y dirección del gradiente\n",
    "    return e, phi"
   ],
   "metadata": {
    "collapsed": false
   }
  },
  {
   "cell_type": "code",
   "execution_count": 8,
   "outputs": [],
   "source": [
    "def discretize_angles(img):\n",
    "    \"\"\"\n",
    "    Discretiza los ángulos en 9 bin.\n",
    "\n",
    "    :param ndarray img: Imagen de ángulos.\n",
    "\n",
    "    :return:\n",
    "        ndarray img : Imagen de ángulos discretizada.\n",
    "    \"\"\"\n",
    "    img[((-20 <= img) & (img < 0)) | ((0 <= img) & (img < 20))] = 1\n",
    "    img[((-40 <= img) & (img < -20)) | ((20 <= img) & (img < 40))] = 2\n",
    "    img[((-60 <= img) & (img < -40)) | ((40 <= img) & (img < 60))] = 3\n",
    "    img[((-80 <= img) & (img < -60)) | ((60 <= img) & (img < 80))] = 4\n",
    "    img[((-100 <= img) & (img < -80)) | ((80 <= img) & (img < 100))] = 5\n",
    "    img[((-120 <= img) & (img < -100)) | ((100 <= img) & (img < 120))] = 6\n",
    "    img[((-140 <= img) & (img < -120)) | ((120 <= img) & (img < 140))] = 7\n",
    "    img[((-160 <= img) & (img < -140)) | ((140 <= img) & (img < 160))] = 8\n",
    "    img[((-180 <= img) & (img < -160)) | ((160 <= img) & (img <= 180))] = 9\n",
    "    return img"
   ],
   "metadata": {
    "collapsed": false
   }
  },
  {
   "cell_type": "code",
   "execution_count": 9,
   "outputs": [],
   "source": [
    "def get_image_characteristics_vector_2(img, size, version='v1', M=2, grad_type='prewitt'):\n",
    "    \"\"\"\n",
    "    Calcula un histograma de direcciones de gradiente en una imagen. Solo soprota imagenes en escala de grises\n",
    "\n",
    "    :param ndarray img: Imagen de entrada.\n",
    "    :param int size: Tamaño del lado de la celda.\n",
    "    :param str version: Normalización a aplicar a los histogramas ('v1', 'v2', o 'v3').\n",
    "    :param int M: Tamaño de bloque de celdas en la normalización 'v2' y 'v3'.\n",
    "    :param str grad_type: Tipo de gradiente a utilizar ('prewitt' o 'sobel').\n",
    "\n",
    "    :return:\n",
    "        ndarray characterictics: El vector de caracteristicas.\n",
    "    \"\"\"\n",
    "\n",
    "    # Calcula la magnitud y dirección del gradiente\n",
    "    e, phi = gradient(img, grad_type)\n",
    "\n",
    "    # Discretiza las direcciones del gradiente en 9 bin\n",
    "    phi = discretize_angles(phi)\n",
    "\n",
    "    # Inicializa el histograma\n",
    "    h = np.empty((int(np.ceil(e.shape[0]/size)), int(np.ceil(e.shape[1]/size)), 9))\n",
    "\n",
    "    # Rellena el histograma con valores de gradiente\n",
    "    for i in range(0,e.shape[0],size):\n",
    "        for j in range(0,e.shape[1],size):\n",
    "            h_p = np.zeros(9)\n",
    "            for k in range(1,9+1):\n",
    "                h_p[k-1] = np.sum(e[i:i+size, j:j+size][phi[i:i+size, j:j+size]==k])\n",
    "            h[i//size, j//size,:] = h_p\n",
    "\n",
    "    # Elige el tipo de normalización\n",
    "    # Normaliza solo en función de su propio valor\n",
    "    if version== 'v1':\n",
    "        norm_factor = np.linalg.norm(h, axis=2)[:,:,np.newaxis]\n",
    "        norm_factor[norm_factor==0] = 1 # Evita divisiones entre 0\n",
    "        h /= norm_factor\n",
    "        characterictics = h.reshape((h.shape[0]*h.shape[1]*9,))\n",
    "\n",
    "    # Normaliza por bloques de M celdas\n",
    "    elif version== 'v2':\n",
    "        for i in range(0,h.shape[0]):\n",
    "            for j in range(0,h.shape[1]):\n",
    "                h_p = h[i:min(i+M,h.shape[0]),j:min(j+M,h.shape[1]),:]\n",
    "                norm_factor = np.linalg.norm(h_p)\n",
    "                norm_factor = norm_factor if norm_factor > 0 else 1# Evita divisiones entre 0\n",
    "                h_p /= norm_factor\n",
    "                h[i:min(i+M,h.shape[0]),j:min(j+M,h.shape[1]),:] = h_p\n",
    "        characterictics = h.reshape((h.shape[0]*h.shape[1]*9,))\n",
    "\n",
    "    # Normaliza cada uno por bloques de M celdas\n",
    "    elif version== 'v3':\n",
    "        h_mod = np.empty(0)\n",
    "        for i in range(0,h.shape[0]-M+1):\n",
    "            for j in range(0,h.shape[1]-M+1):\n",
    "                h_p = h[i:min(i+M,h.shape[0]),j:min(j+M,h.shape[1]),:]\n",
    "                norm_factor = np.linalg.norm(h_p)\n",
    "                norm_factor = norm_factor if norm_factor > 0 else 1# Evita divisiones entre 0\n",
    "                h_p /= norm_factor\n",
    "                h_mod = np.concatenate((h_mod, h_p.flatten()),axis=0)\n",
    "        characterictics = h_mod\n",
    "\n",
    "    else:\n",
    "        sys.exit(f'Unknown normalization type \\'{version}\\'')\n",
    "\n",
    "    return characterictics"
   ],
   "metadata": {
    "collapsed": false
   }
  },
  {
   "cell_type": "markdown",
   "source": [
    "#### <a name=\"S1P3\"></a>3. Funciones adicionales para estandarizar el número de celdas"
   ],
   "metadata": {
    "collapsed": false
   }
  },
  {
   "cell_type": "code",
   "execution_count": 10,
   "outputs": [],
   "source": [
    "def get_size_combinations(S):\n",
    "    \"\"\"\n",
    "    Calcula todas las combinaciones posibles de dos tamaños (nxm) que formen el tamaño total dado.\n",
    "    También calcula las proporciones de cada uno de estos tamaños.\n",
    "\n",
    "    :param int S: El número de celdas deseadas.\n",
    "\n",
    "    :return:\n",
    "        np.ndarray possible_ns: El array con todos los posibles valores de número de celdas en vertical.\n",
    "        np.ndarray possible_ns: El array con todos los posibles valores de número de celdas en horizontal.\n",
    "        np.ndarray proportions: El array con las proporciones entre celdas verticales y horizontales (n:m)\n",
    "        para el tamaño dado. Sigue el orden de possible_ns.\n",
    "    \"\"\"\n",
    "    possible_ns = []\n",
    "    # Recorrer todos los números desde 1 hasta la mitad del tamaño total (a pratir de ahi se repite en orden inverso)\n",
    "    for n in range(1,S//2+1):\n",
    "        # Si el tamaño total es divisible por n, añadir n a la lista de posibles tamaños\n",
    "        if S%n==0:\n",
    "            possible_ns.append(n)\n",
    "    # Calcular las proporciones de cada tamaño utilizando el tamaño al cuadrado dividido por el tamaño total\n",
    "    proportions = np.square(np.array(possible_ns))/S\n",
    "    possible_ns = np.array(possible_ns)\n",
    "    possible_ms = np.int8(possible_ns/proportions)\n",
    "\n",
    "    # Devolver una tupla con los tamaños y las proporciones\n",
    "    return possible_ns, possible_ms, proportions"
   ],
   "metadata": {
    "collapsed": false
   }
  },
  {
   "cell_type": "code",
   "execution_count": 11,
   "outputs": [],
   "source": [
    "def get_image_cell_size(img, props, ns, ms):\n",
    "    \"\"\"\n",
    "    Obtiene el tamaño de celda y proporcion de celdas que mejor se ajusten a la imagen dada y al número de celdas en las que\n",
    "    queremos dividirla.\n",
    "\n",
    "    :param ndarray img: Imagen de entrada.\n",
    "    :param ndarray props: Proporciones posibles para el tamaño y el número de celdas.\n",
    "    :param ndarray ns: Números de celdas en vertical dependiendo de la proporción.\n",
    "    :param ndarray ms: Números de celdas en horizontal dependiendo de la proporción.\n",
    "\n",
    "    :return:\n",
    "        size (int): Tamaño del lado de la celda cuadrada óptima para la imagen.\n",
    "        correction_info (dict): Un diccionario con la información necesaria para poder tratar la imagen conforme al tamaño\n",
    "        que se le haya identificado como óptimo.\n",
    "            d_x y cf_x indican el numero de pixeles a eliminar verticalmente (2*d_x+cf_x)\n",
    "            d_y y cf_y indican el numero de pixeles a eliminar horizontalmente (2*d_y+cf_y)\n",
    "            n y m son el numero de celdas en vetical y horizontal en las que se divide la imagen, resectivamente\n",
    "            p es la proporcion elegida, viene dada por n:m\n",
    "    \"\"\"\n",
    "    p = img.shape[0]/img.shape[1]\n",
    "    indx = np.argmin(np.abs(props-p))\n",
    "\n",
    "    size1 = img.shape[0]//ns[indx]\n",
    "    size2 = img.shape[1]//ms[indx]\n",
    "\n",
    "    size = min(size1, size2)\n",
    "\n",
    "    d_x = int(img.shape[0]/2-size*(ns[indx]/2))\n",
    "    cf_x = 1\n",
    "    if (img.shape[0]/2-size*(ns[indx]/2)).is_integer():\n",
    "        cf_x = 0\n",
    "\n",
    "    d_y = int(img.shape[1]/2-size*(ms[indx]/2))\n",
    "    cf_y = 1\n",
    "    if (img.shape[1]/2-size*(ms[indx]/2)).is_integer():\n",
    "        cf_y = 0\n",
    "\n",
    "    correction_info = {\n",
    "        'd_x':d_x,\n",
    "        'cf_x':cf_x,\n",
    "        'd_y':d_y,\n",
    "        'cf_y':cf_y,\n",
    "        'n':ns[indx],\n",
    "        'm':ms[indx],\n",
    "        'p':props[indx]\n",
    "    }\n",
    "    return size, correction_info"
   ],
   "metadata": {
    "collapsed": false
   }
  },
  {
   "cell_type": "markdown",
   "source": [
    "#### <a name=\"S1P4\"></a>4. Funciones de operación del dataset"
   ],
   "metadata": {
    "collapsed": false
   }
  },
  {
   "cell_type": "code",
   "execution_count": 12,
   "outputs": [],
   "source": [
    "def extract_characteristics(dataset, sizes, extraction_model='base', version='v1', M=2, grad_type='prewitt'):\n",
    "    \"\"\"\n",
    "    Tranforma un conjunto de imagenes en un vector de caracteristicas siguiendo el extraction_model.\n",
    "\n",
    "    :param list dataset: Lista con las imagenes de las que se quiere extraer sus vectores de características.\n",
    "    :param ndarray sizes: Lista de tamaños de celda para cada imagen del dataset.\n",
    "    :param str extraction_model: Tipo de extraccion de caracteristicas a aplicar. Puede ser base o grad.\n",
    "    :param str version: Version del metodo de extraccion.\n",
    "    :param int M: Para el modelo grad y version 2 o 3 se puede suminsitrar un tamaño de bloque de normalizacion.\n",
    "    :param str grad_type: Para el modelo grad ('prewitt' o 'sobel').\n",
    "\n",
    "    :return:\n",
    "        ndarray X: Matriz de vectores de caracteristicas del dataset de tamaño NxM donde N es el número de ejemplos y el tamaño del vector de caracteristicas.\n",
    "    \"\"\"\n",
    "    X = []\n",
    "    # Iterar sobre cada imagen en el dataset\n",
    "    for i in tqdm(range(len(dataset))):\n",
    "        # Obtener la imagen y el tamaño de la celda\n",
    "        image = dataset[i]\n",
    "        size = sizes[i]\n",
    "\n",
    "        # Extrae el vector de caracteristicas de la imagen\n",
    "        if extraction_model == 'base':\n",
    "            v_caracteristics = get_image_characteristics_vector_1(image, size, version=version)\n",
    "        elif extraction_model == 'grad':\n",
    "            v_caracteristics = get_image_characteristics_vector_2(image, size, version=version, M=M, grad_type=grad_type)\n",
    "        else:\n",
    "            sys.exit(f'Unknown version \\'{version}\\'')\n",
    "        X.append(v_caracteristics)\n",
    "\n",
    "    # TRATAMIENTO DE VECTORES ERRONEOS\n",
    "    shape_counts = Counter([x.shape for x in X])\n",
    "    reference_shape = shape_counts.most_common(1)[0][0]\n",
    "\n",
    "    print(f\"tamaño de referencia: {reference_shape}\")\n",
    "\n",
    "\n",
    "    aux_X = []\n",
    "    for i, vector in enumerate(X[:]):\n",
    "        if vector.shape == reference_shape:\n",
    "            aux_X.append(vector)\n",
    "        else:\n",
    "            print(f'descarte :{i} con tamaño: {vector.shape}')\n",
    "\n",
    "    print(f'tamaño de dataset {len(X)} -> {len(aux_X)}')\n",
    "\n",
    "    # Convertir la lista de vectores de caracteristicas en un array de NumPy\n",
    "    X = np.array(aux_X)\n",
    "    return X"
   ],
   "metadata": {
    "collapsed": false
   }
  },
  {
   "cell_type": "code",
   "execution_count": 13,
   "outputs": [],
   "source": [
    "def standarize_dataset(input_directory, N, colorized=True, clear_output=False):\n",
    "    \"\"\"\n",
    "    Estandariza un conjunto de imágenes de entrada para que se puedan dividir en un mismo numero de celdas.\n",
    "\n",
    "    :param str input_directory: Directorio de entrada con las imágenes.\n",
    "    :param int N: Número de celdas deseado.\n",
    "    :param bool colorized: Indica si se quiere mantener las imagenes a color.\n",
    "    :param bool clear_output: Indica si se quiere vaciar el directorio de salida si existe.\n",
    "\n",
    "    :return:\n",
    "        output_directory (str): Directorio de salida con las imágenes modificadas y los txt con su informacion\n",
    "    \"\"\"\n",
    "    # Se obtienen las posibles combinaciones nxm tal que el total de celdas sea N\n",
    "    ns, ms, proportions = get_size_combinations(N)\n",
    "\n",
    "    # Creacion de un directorio de salida si no existe, si existe error\n",
    "    output_directory = input_directory+'_crop_size_'+str(N) if colorized else input_directory+'_grayscale_crop_size_'+str(N)\n",
    "\n",
    "    if os.path.exists(output_directory):\n",
    "        if clear_output:\n",
    "            shutil.rmtree(output_directory)\n",
    "            os.makedirs(output_directory)\n",
    "        else:\n",
    "            sys.exit(f'Directory already exists \\'{output_directory}\\'')\n",
    "    else:\n",
    "        os.makedirs(output_directory)\n",
    "\n",
    "\n",
    "    # Itera sobre los archivos en el directorio\n",
    "    for filename in tqdm(os.listdir(input_directory)):\n",
    "        # Comprueba si se trata de JPG\n",
    "        if not filename.endswith(\".jpg\"):\n",
    "            continue\n",
    "\n",
    "        # Lectura y tratamiento de la imagen\n",
    "        image = imageio.imread(os.path.join(input_directory, filename))\n",
    "        if not colorized:\n",
    "            image = rgb2gray(image)\n",
    "            image = (image*255).astype(np.uint8)\n",
    "\n",
    "        # Recorte de la imagen al tamaño determinado por el tamaño de celda elegido\n",
    "        # Se elimina de ambos lados para que la imagen quede centrada\n",
    "        size, c_info=get_image_cell_size(image, proportions, ns, ms)\n",
    "        image = image[c_info['d_x']:image.shape[0]-c_info['d_x']-c_info['cf_x'],\n",
    "                      c_info['d_y']:image.shape[1]-c_info['d_y']-c_info['cf_y']]\n",
    "\n",
    "        # Guardado de la imagen tratada en el nuevo directorio\n",
    "        imageio.imwrite(os.path.join(output_directory, filename), image)\n",
    "\n",
    "        # Creacion de archivo txt con los datos de la imagen\n",
    "        base_name = os.path.splitext(filename)[0]\n",
    "        with open(os.path.join(output_directory, base_name + \".txt\"), \"w\") as f:\n",
    "            f.write(f\"image={filename}\\nN={N}\\np={c_info['p']}\\nn={c_info['n']}\\nm={c_info['m']}\\nsize={size}\\n\")\n",
    "\n",
    "    return output_directory"
   ],
   "metadata": {
    "collapsed": false
   }
  },
  {
   "cell_type": "code",
   "execution_count": 14,
   "outputs": [],
   "source": [
    "def load_dataset(input_directory):\n",
    "    \"\"\"\n",
    "    Carga un conjunto de imagenes localizado en input_directory y sus tamaños almacenados en el fichero asociado.\n",
    "\n",
    "    :param str input_directory: Directorio de entrada con las imágenes.\n",
    "\n",
    "    :return:\n",
    "        list data: Vector que contiene las imagenes cargadas del directorio.\n",
    "        ndarray sizes: Lista de tamaños de celda calculados para cada imagen del dataset, en el mismo orden.\n",
    "    \"\"\"\n",
    "    data = []\n",
    "    sizes = []\n",
    "\n",
    "    # Iterar sobre los archivos en el directorio de entrada\n",
    "    for filename in tqdm(os.listdir(input_directory)):\n",
    "        # Verificar si el archivo es JPG\n",
    "        if not filename.endswith(\".jpg\"):\n",
    "            continue\n",
    "        # Lectura de la imagen\n",
    "        image = imageio.imread(os.path.join(input_directory, filename))\n",
    "\n",
    "        # Abrir el archivo txt con la informacion en modo lectura\n",
    "        base_name = os.path.splitext(filename)[0]\n",
    "        with open(os.path.join(input_directory, base_name + \".txt\"), \"r\") as f:\n",
    "            # Leer todas las líneas del archivo en una lista\n",
    "            lines = f.readlines()\n",
    "\n",
    "        # Iterar sobre las líneas del archivo en orden inverso\n",
    "        for line in reversed(lines):\n",
    "            # Verificar si la línea comienza con \"size=\"\n",
    "            if line.startswith(\"size=\"):\n",
    "                # Extraer el valor después de \"size=\" y asignarlo a la variable size\n",
    "                size = int(line.split(\"=\")[1])\n",
    "                break\n",
    "\n",
    "        data.append(image)\n",
    "        sizes.append(size)\n",
    "\n",
    "    data = data\n",
    "    sizes = np.array(sizes)\n",
    "\n",
    "    return data, sizes"
   ],
   "metadata": {
    "collapsed": false
   }
  },
  {
   "cell_type": "code",
   "execution_count": 15,
   "outputs": [],
   "source": [
    "def load_combine_datasets(n=100, n_cells=84):\n",
    "    \"\"\"\n",
    "    Carga y combina los datos de entrenamiento y prueba para perros y gatos.\n",
    "\n",
    "    :param int n: Número de imágenes a cargar.\n",
    "    :param int n_cells: Número de celdas a utilizar para el tamaño de recorte de las imágenes.\n",
    "\n",
    "    :return:\n",
    "        dict data: Diccionario con los datos de entrenamiento y prueba para perros y gatos en escala de grises y a color.\n",
    "    \"\"\"\n",
    "\n",
    "    print(f'Loading datasets({n})')\n",
    "\n",
    "    data1_dog_train, sizes1_dog_train = load_dataset(f'cat_dog_{n}/train/dog_crop_size_{n_cells}')\n",
    "    data1_cat_train, sizes1_cat_train = load_dataset(f'cat_dog_{n}/train/cat_crop_size_{n_cells}')\n",
    "    data1_dog_test, size1_dog_test = load_dataset(f'cat_dog_{n}/test/dog_crop_size_{n_cells}')\n",
    "    data1_cat_test, size1_cat_test = load_dataset(f'cat_dog_{n}/test/cat_crop_size_{n_cells}')\n",
    "\n",
    "    data2_dog_train, sizes2_dog_train = load_dataset(f'cat_dog_{n}/train/dog_grayscale_crop_size_{n_cells}')\n",
    "    data2_cat_train, sizes2_cat_train = load_dataset(f'cat_dog_{n}/train/cat_grayscale_crop_size_{n_cells}')\n",
    "    data2_dog_test, size2_dog_test = load_dataset(f'cat_dog_{n}/test/dog_grayscale_crop_size_{n_cells}')\n",
    "    data2_cat_test, size2_cat_test = load_dataset(f'cat_dog_{n}/test/cat_grayscale_crop_size_{n_cells}')\n",
    "\n",
    "    data = {\n",
    "        'color':{\n",
    "            'train':{\n",
    "                'cat':{\n",
    "                    'data':data1_cat_train,\n",
    "                    'sizes':sizes1_cat_train\n",
    "                    },\n",
    "                'dog':{\n",
    "                    'data':data1_dog_train,\n",
    "                    'sizes':sizes1_dog_train\n",
    "                    }\n",
    "                },\n",
    "            'test':{\n",
    "                'cat':{\n",
    "                    'data':data1_cat_test,\n",
    "                    'sizes':size1_cat_test\n",
    "                    },\n",
    "                'dog':{\n",
    "                    'data':data1_dog_test,\n",
    "                    'sizes':size1_dog_test\n",
    "                    }\n",
    "                }\n",
    "            },\n",
    "        'grayscale':{\n",
    "            'train':{\n",
    "                'cat':{\n",
    "                    'data':data2_cat_train,\n",
    "                    'sizes':sizes2_cat_train\n",
    "                    },\n",
    "                'dog':{\n",
    "                    'data':data2_dog_train,\n",
    "                    'sizes':sizes2_dog_train\n",
    "                    }\n",
    "                },\n",
    "            'test':{\n",
    "                'cat':{\n",
    "                    'data':data2_cat_test,\n",
    "                    'sizes':size2_cat_test\n",
    "                    },\n",
    "                'dog':{\n",
    "                    'data':data2_dog_test,\n",
    "                    'sizes':size2_dog_test\n",
    "                    }\n",
    "                }\n",
    "            }\n",
    "    }\n",
    "\n",
    "    return data"
   ],
   "metadata": {
    "collapsed": false
   }
  },
  {
   "cell_type": "code",
   "execution_count": 16,
   "outputs": [],
   "source": [
    "def extract_combine_datasets(data, colorized=True, extraction_model='base', version='v1', M=2, grad_type='prewitt'):\n",
    "    \"\"\"\n",
    "    Combina los datos de entrenamiento y prueba para perros y gatos.\n",
    "\n",
    "    :param dict data: Diccionario con los datos de entrenamiento y prueba para perros y gatos en escala de grises o a color.\n",
    "    :param bool colorized: Booleano que indica si se deben extraer las características de los datos a color o en escala de grises.\n",
    "    :param str extraction_model: Modelo de extracción a utilizar para la extracción de características.\n",
    "    :param str version: Versión del modelo de extracción a utilizar.\n",
    "    :param int M: Para el modelo grad y version 2 o 3 se puede suminsitrar un tamaño de bloque de normalizacion.\n",
    "    :param str grad_type: Para el modelo grad ('prewitt' o 'sobel').\n",
    "\n",
    "    :return:\n",
    "        ndarray X, y, Xtest, ytest: Cuatro arrays NumPy con los datos de entrenamiento y prueba para perros y gatos.\n",
    "    \"\"\"\n",
    "\n",
    "    if colorized:\n",
    "        if extraction_model=='grad':\n",
    "            sys.exit(f'Incompatible extraction model \\'{extraction_model}\\' for colorized images')\n",
    "\n",
    "        print('Extracting characteristics (colored)')\n",
    "        X_dog_train = extract_characteristics(data['color']['train']['dog']['data'], data['color']['train']['dog']['sizes'],\n",
    "                                              extraction_model=extraction_model, version=version, M=M, grad_type=grad_type)\n",
    "        y_dog_train = np.zeros(np.array(X_dog_train).shape[0])\n",
    "\n",
    "        X_cat_train = extract_characteristics(data['color']['train']['cat']['data'], data['color']['train']['cat']['sizes'],\n",
    "                                              extraction_model=extraction_model, version=version, M=M, grad_type=grad_type)\n",
    "        y_cat_train = np.ones(np.array(X_cat_train).shape[0])\n",
    "\n",
    "        X_dog_test = extract_characteristics(data['color']['test']['dog']['data'], data['color']['test']['dog']['sizes'],\n",
    "                                             extraction_model=extraction_model, version=version, M=M, grad_type=grad_type)\n",
    "        y_dog_test = np.zeros(np.array(X_dog_test).shape[0])\n",
    "\n",
    "        X_cat_test = extract_characteristics(data['color']['test']['cat']['data'], data['color']['test']['cat']['sizes'],\n",
    "                                             extraction_model=extraction_model, version=version, M=M, grad_type=grad_type)\n",
    "        y_cat_test = np.ones(np.array(X_cat_test).shape[0])\n",
    "\n",
    "    elif not colorized:\n",
    "        print('Extracting characteristics (grayscale)')\n",
    "\n",
    "        X_cat_train = extract_characteristics(data['grayscale']['train']['cat']['data'], data['grayscale']['train']['cat']['sizes'],\n",
    "                                              extraction_model=extraction_model, version=version, M=M, grad_type=grad_type)\n",
    "        y_cat_train = np.ones(np.array(X_cat_train).shape[0])\n",
    "\n",
    "        X_dog_train = extract_characteristics(data['grayscale']['train']['dog']['data'], data['grayscale']['train']['dog']['sizes'],\n",
    "                                              extraction_model=extraction_model, version=version, M=M, grad_type=grad_type)\n",
    "        y_dog_train = np.zeros(np.array(X_dog_train).shape[0])\n",
    "\n",
    "\n",
    "\n",
    "        X_dog_test = extract_characteristics(data['grayscale']['test']['dog']['data'], data['grayscale']['test']['dog']['sizes'],\n",
    "                                             extraction_model=extraction_model, version=version, M=M, grad_type=grad_type)\n",
    "        y_dog_test = np.zeros(np.array(X_dog_test).shape[0])\n",
    "\n",
    "        X_cat_test = extract_characteristics(data['grayscale']['test']['cat']['data'], data['grayscale']['test']['cat']['sizes'],\n",
    "                                             extraction_model=extraction_model, version=version, M=M, grad_type=grad_type)\n",
    "        y_cat_test = np.ones(np.array(X_cat_test).shape[0])\n",
    "\n",
    "    X = np.vstack((X_dog_train, X_cat_train))\n",
    "    y = np.hstack((y_dog_train, y_cat_train)).T\n",
    "\n",
    "    Xtest = np.vstack((X_dog_test, X_cat_test))\n",
    "    ytest = np.hstack((y_dog_test, y_cat_test)).T\n",
    "\n",
    "    # Alterar orden\n",
    "    perm = np.random.permutation(X.shape[0])\n",
    "    X = X[perm]\n",
    "    y = y[perm]\n",
    "\n",
    "    perm = np.random.permutation(Xtest.shape[0])\n",
    "    Xtest = Xtest[perm]\n",
    "    ytest = ytest[perm]\n",
    "\n",
    "    return X, y, Xtest, ytest"
   ],
   "metadata": {
    "collapsed": false
   }
  },
  {
   "cell_type": "markdown",
   "source": [
    "#### <a name=\"S1P5\"></a>5. Funciones de almacenamiento y carga de vectores de características de los datasets"
   ],
   "metadata": {
    "collapsed": false
   }
  },
  {
   "cell_type": "code",
   "execution_count": 17,
   "outputs": [],
   "source": [
    "def save_extracted_characteristics(X, y, Xtrain, ytrain, folder_name, override = True):\n",
    "    \"\"\"\n",
    "    Guarda los datos de ejemplos y etiquetas en archivos CSV en la carpeta especificada.\n",
    "\n",
    "    :param ndarray X: Array NumPy con los datos de ejemplos.\n",
    "    :param ndarray y: Array NumPy con las etiquetas de los ejemplos.\n",
    "    :param ndarray Xtrain: Array NumPy con los datos de ejemplos de entrenamiento.\n",
    "    :param ndarray ytrain: Array NumPy con las etiquetas de entrenamiento de los ejemplos.\n",
    "    :param str folder_name: Nombre de la carpeta donde se deben guardar los archivos.\n",
    "    :param bool override: Booleano que indica si se deben sobrescribir los archivos si ya existen.\n",
    "    \"\"\"\n",
    "    if os.path.exists(folder_name):\n",
    "        if override:\n",
    "            shutil.rmtree(folder_name)\n",
    "            os.makedirs(folder_name)\n",
    "        else:\n",
    "            sys.exit(f'Directory already exists \\'{folder_name}\\'')\n",
    "    else:\n",
    "        os.makedirs(folder_name)\n",
    "\n",
    "    # Guardar datos en csv\n",
    "    np.savetxt(os.path.join(folder_name, 'X.csv'), X, delimiter=',')\n",
    "    np.savetxt(os.path.join(folder_name, 'y.csv'), y, delimiter=',')\n",
    "    np.savetxt(os.path.join(folder_name, 'Xtrain.csv'), Xtrain, delimiter=',')\n",
    "    np.savetxt(os.path.join(folder_name, 'ytrain.csv'), ytrain, delimiter=',')"
   ],
   "metadata": {
    "collapsed": false
   }
  },
  {
   "cell_type": "code",
   "execution_count": 18,
   "outputs": [],
   "source": [
    "def load_extracted_characteristics(folder_name):\n",
    "    \"\"\"\n",
    "    Carga los datos de ejemplos y etiquetas de archivos CSV de la carpeta especificada.\n",
    "\n",
    "    :param str folder_name: Nombre de la carpeta donde se encuentran los archivos.\n",
    "    :return:\n",
    "        ndarray X, y, Xtrain, ytrain: Cuatro arrays NumPy con los datos de ejemplos y etiquetas cargados.\n",
    "    \"\"\"\n",
    "    X = np.loadtxt(f'{folder_name}/X.csv', delimiter=',')\n",
    "    y = np.loadtxt(f'{folder_name}/y.csv', delimiter=',')\n",
    "    Xtrain = np.loadtxt(f'{folder_name}/Xtrain.csv', delimiter=',')\n",
    "    ytrain = np.loadtxt(f'{folder_name}/ytrain.csv', delimiter=',')\n",
    "\n",
    "    return X, y, Xtrain, ytrain"
   ],
   "metadata": {
    "collapsed": false
   }
  },
  {
   "cell_type": "markdown",
   "source": [
    "## <a name=\"S2\"></a>Seccion 2"
   ],
   "metadata": {
    "collapsed": false
   }
  },
  {
   "cell_type": "markdown",
   "source": [
    "#### <a name=\"S2P1\"></a>1. Tratado previo de imagenes"
   ],
   "metadata": {
    "collapsed": false
   }
  },
  {
   "cell_type": "code",
   "execution_count": 179,
   "outputs": [],
   "source": [
    "n_cells = 84 # Número de celdas en las que se desea dividir las imágenes\n",
    "n = 100 # dataset"
   ],
   "metadata": {
    "collapsed": false
   }
  },
  {
   "cell_type": "code",
   "execution_count": 180,
   "outputs": [
    {
     "name": "stderr",
     "output_type": "stream",
     "text": [
      "100%|██████████| 100/100 [00:00<00:00, 106.83it/s]\n",
      "100%|██████████| 100/100 [00:01<00:00, 70.17it/s]\n",
      "100%|██████████| 100/100 [00:01<00:00, 99.77it/s]\n",
      "100%|██████████| 100/100 [00:01<00:00, 91.74it/s]\n",
      "100%|██████████| 500/500 [00:04<00:00, 106.44it/s]\n",
      "100%|██████████| 500/500 [00:05<00:00, 97.34it/s] \n",
      "100%|██████████| 500/500 [00:04<00:00, 102.56it/s]\n",
      "100%|██████████| 500/500 [00:05<00:00, 87.19it/s]\n"
     ]
    }
   ],
   "source": [
    "directories=[f\"cat_dog_{n}/test/cat\",\n",
    "           f\"cat_dog_{n}/test/dog\",\n",
    "           f\"cat_dog_{n}/train/cat\",\n",
    "           f\"cat_dog_{n}/train/dog\"]\n",
    "\n",
    "for directory in directories:\n",
    "    standarize_dataset(directory, n_cells, colorized=True, clear_output=True)\n",
    "    standarize_dataset(directory, n_cells, colorized=False, clear_output=True)"
   ],
   "metadata": {
    "collapsed": false
   }
  },
  {
   "cell_type": "markdown",
   "source": [
    "#### <a name=\"S2P2\"></a>2. Cargado de los datasets"
   ],
   "metadata": {
    "collapsed": false
   }
  },
  {
   "cell_type": "code",
   "execution_count": 181,
   "outputs": [
    {
     "name": "stdout",
     "output_type": "stream",
     "text": [
      "Loading datasets(500)\n"
     ]
    },
    {
     "name": "stderr",
     "output_type": "stream",
     "text": [
      "100%|██████████| 1000/1000 [00:04<00:00, 206.57it/s]\n",
      "100%|██████████| 1000/1000 [00:04<00:00, 220.34it/s]\n",
      "100%|██████████| 200/200 [00:00<00:00, 202.60it/s]\n",
      "100%|██████████| 200/200 [00:01<00:00, 186.85it/s]\n",
      "100%|██████████| 1000/1000 [00:03<00:00, 257.26it/s]\n",
      "100%|██████████| 1000/1000 [00:04<00:00, 233.06it/s]\n",
      "100%|██████████| 200/200 [00:00<00:00, 227.04it/s]\n",
      "100%|██████████| 200/200 [00:00<00:00, 214.10it/s]\n"
     ]
    }
   ],
   "source": [
    "data = load_combine_datasets(n=n)"
   ],
   "metadata": {
    "collapsed": false
   }
  },
  {
   "cell_type": "markdown",
   "source": [
    "#### <a name=\"S2P3\"></a>3. Extraccion de carateristicas y almacenamiento de datos"
   ],
   "metadata": {
    "collapsed": false
   }
  },
  {
   "cell_type": "code",
   "execution_count": null,
   "outputs": [],
   "source": [
    "# Posibles valores a combinar\n",
    "colorized_values = [True, False]\n",
    "extraction_model_values = ['base', 'grad']\n",
    "version_values = ['v1', 'v2', 'v3']\n",
    "M_values = [2, 4, 6]\n",
    "grad_type_values = ['prewitt', 'sobel']\n",
    "\n",
    "input_combinations = itertools.product(colorized_values, extraction_model_values, version_values, M_values, grad_type_values)\n",
    "\n",
    "# Iteramos sobres las posibles combinaciones\n",
    "for inputs in tqdm(input_combinations, position=1, leave=False):\n",
    "    colorized, extraction_model, version, M, grad_type = inputs\n",
    "\n",
    "    # Omintimos combinaciones no compatibles\n",
    "    if colorized and extraction_model == 'grad':\n",
    "        continue\n",
    "    if extraction_model == 'base' and version == 'v3':\n",
    "        continue\n",
    "    if extraction_model == 'grad' and version != 'v2' and version != 'v3' and M != 2:\n",
    "        continue\n",
    "    if extraction_model == 'base' and (M != 2 or grad_type != 'prewitt'):\n",
    "        continue\n",
    "\n",
    "    # Extraemos los vectores de caracteristicas de los datasets\n",
    "    color = 'color' if colorized else 'grayscale'\n",
    "\n",
    "    # El nombre del directorio contiene el valor de los parametros de la iteración en la que se ha ejecutado.\n",
    "    # Aunque algunos de ellos puedan llegar a no usarse en el proceso de extraccion, semantienen en el nombre para mantener un estandar.\n",
    "    print(f'Treating data:{color}_{extraction_model}_{version}_{M}_{grad_type}')\n",
    "    X, y, Xtest, ytest = extract_combine_datasets(data, colorized, extraction_model, version, M, grad_type)\n",
    "    save_extracted_characteristics(X, y, Xtest, ytest, f'{n_cells}/{color}_{extraction_model}_{version}_{M}_{grad_type}')\n"
   ],
   "metadata": {
    "collapsed": false,
    "pycharm": {
     "is_executing": true
    }
   }
  },
  {
   "cell_type": "markdown",
   "source": [
    "## <a name=\"S3\"></a>Sección 3"
   ],
   "metadata": {
    "collapsed": false
   }
  },
  {
   "cell_type": "markdown",
   "source": [
    "#### <a name=\"S3P1\"></a>1. Declaracion de funciones para manejo de clasificadores"
   ],
   "metadata": {
    "collapsed": false
   },
   "outputs": [
    {
     "name": "stderr",
     "output_type": "stream",
     "text": [
      " 70%|███████   | 70/100 [01:03<00:32,  1.09s/it]"
     ]
    }
   ]
  },
  {
   "cell_type": "code",
   "execution_count": 19,
   "outputs": [],
   "source": [
    "from sklearn.model_selection import ShuffleSplit\n",
    "from sklearn.model_selection import GridSearchCV\n",
    "from sklearn.linear_model import LogisticRegression\n",
    "from sklearn import metrics\n",
    "from sklearn.naive_bayes import MultinomialNB\n",
    "from sklearn.neural_network import MLPClassifier\n",
    "from sklearn import svm\n",
    "from sklearn.ensemble import RandomForestClassifier\n",
    "import time"
   ],
   "metadata": {
    "collapsed": false
   }
  },
  {
   "cell_type": "code",
   "execution_count": 20,
   "outputs": [],
   "source": [
    "def LogisticRegression_test(X, y, Xtest, ytest):\n",
    "    \"\"\"\n",
    "    Carga los datos de ejemplos y etiquetas y realiza una prueba de regresión logística utilizando validación cruzada y búsqueda de rejilla.\n",
    "\n",
    "    :param ndarray X: Array NumPy con los datos de ejemplos para entrenamiento.\n",
    "    :param ndarray y: Array NumPy con las etiquetas de los ejemplos de entrenamiento.\n",
    "    :param ndarray Xtest: Array NumPy con los datos de ejemplos para pruebas.\n",
    "    :param ndarray ytest: Array NumPy con las etiquetas de los ejemplos de pruebas.\n",
    "    :return:\n",
    "    tuple best_params, accTrain, accTest: Tupla con el mejor conjunto de parámetros encontrado, el porcentaje de acierto en el conjunto de entrenamiento y el porcentaje de acierto en el conjunto de pruebas, respectivamente.\n",
    "    \"\"\"\n",
    "    # Se incializa el modelo llamando al constructor de la regresión lineal: todos los parámetros se asignan a los valores mencionados anteriormente\n",
    "    LogReg = LogisticRegression()\n",
    "\n",
    "    # Set up cross-validation with ShuffleSplit and grid search with GridSearchCV\n",
    "    rs = ShuffleSplit(n_splits=3, test_size=0.2, random_state=42)\n",
    "    param_grid = {'C': [1], 'max_iter': [200, 300, 400], 'solver': ['newton-cg', 'lbfgs']}#NOTA: 'liblinear', 'sag' (best of 10) eliminados C100 eliminado (best of 10) C10 eliminado(best of 7)\n",
    "    clf = GridSearchCV(LogReg, param_grid, n_jobs=-1, cv=rs)\n",
    "\n",
    "    # Fit the model to the data\n",
    "    clf.fit(X, y)\n",
    "\n",
    "    # Get the best estimator\n",
    "    best_estimator = clf.best_estimator_\n",
    "\n",
    "    # Cálculo del porcentaje de acierto (recuerda no pasar la columna de 1's)\n",
    "    pred_train = best_estimator.predict(X)\n",
    "    pred_test = best_estimator.predict(Xtest)\n",
    "    accTrain = metrics.accuracy_score(pred_train, y)\n",
    "    accTest = metrics.accuracy_score(pred_test, ytest)\n",
    "\n",
    "    best_params = clf.best_params_\n",
    "\n",
    "    return best_params, accTrain, accTest"
   ],
   "metadata": {
    "collapsed": false
   }
  },
  {
   "cell_type": "code",
   "execution_count": 21,
   "outputs": [],
   "source": [
    "def MultinomialNB_test(X, y, Xtest, ytest):\n",
    "    \"\"\"\n",
    "    Carga los datos de ejemplos y etiquetas y realiza una prueba de clasificacion por naive bayes utilizando validación cruzada y búsqueda de rejilla.\n",
    "\n",
    "    :param ndarray X: Array NumPy con los datos de ejemplos para entrenamiento.\n",
    "    :param ndarray y: Array NumPy con las etiquetas de los ejemplos de entrenamiento.\n",
    "    :param ndarray Xtest: Array NumPy con los datos de ejemplos para pruebas.\n",
    "    :param ndarray ytest: Array NumPy con las etiquetas de los ejemplos de pruebas.\n",
    "    :return:\n",
    "    tuple best_params, accTrain, accTest: Tupla con el mejor conjunto de parámetros encontrado, el porcentaje de acierto en el conjunto de entrenamiento y el porcentaje de acierto en el conjunto de pruebas, respectivamente.\n",
    "    \"\"\"\n",
    "    # Configurar validación cruzada con ShuffleSplit y búsqueda con GridSearchCV\n",
    "    rs = ShuffleSplit(n_splits=5, test_size=0.2, random_state=42)\n",
    "    param_grid = {'alpha': [1, 0.1, 0.01, 0.001, 0.0001]}\n",
    "    clf = GridSearchCV(MultinomialNB(), param_grid, cv=rs)\n",
    "\n",
    "    # Ajustar el modelo a los datos\n",
    "    clf.fit(X, y)\n",
    "\n",
    "    # Obtener el mejor estimador\n",
    "    best_estimator = clf.best_estimator_\n",
    "\n",
    "    # Obtener predicciones\n",
    "    pred_train = best_estimator.predict(X)\n",
    "    pred_test = best_estimator.predict(Xtest)\n",
    "\n",
    "    # Calcular precisión\n",
    "    accTrain = metrics.accuracy_score(pred_train, y)\n",
    "    accTest = metrics.accuracy_score(pred_test, ytest)\n",
    "    best_params = clf.best_params_\n",
    "    return best_params, accTrain, accTest"
   ],
   "metadata": {
    "collapsed": false
   }
  },
  {
   "cell_type": "code",
   "execution_count": 22,
   "outputs": [],
   "source": [
    "def MLPClassifier_test(X, y, Xtest, ytest):\n",
    "    \"\"\"\n",
    "    Carga los datos de ejemplos y etiquetas y realiza una prueba de clasificador mlp utilizando validación cruzada y búsqueda de rejilla.\n",
    "\n",
    "    :param ndarray X: Array NumPy con los datos de ejemplos para entrenamiento.\n",
    "    :param ndarray y: Array NumPy con las etiquetas de los ejemplos de entrenamiento.\n",
    "    :param ndarray Xtest: Array NumPy con los datos de ejemplos para pruebas.\n",
    "    :param ndarray ytest: Array NumPy con las etiquetas de los ejemplos de pruebas.\n",
    "    :return:\n",
    "    tuple best_params, accTrain, accTest: Tupla con el mejor conjunto de parámetros encontrado, el porcentaje de acierto en el conjunto de entrenamiento y el porcentaje de acierto en el conjunto de pruebas, respectivamente.\n",
    "    \"\"\"\n",
    "    # Configurar validación cruzada con ShuffleSplit y búsqueda de grilla con GridSearchCV\n",
    "    rs = ShuffleSplit(n_splits=5, test_size=0.2, random_state=42)\n",
    "    param_grid = {'hidden_layer_sizes': [10, 15, 20], 'max_iter': [200, 250, 300], 'solver': ['lbfgs']}\n",
    "    clf = GridSearchCV(MLPClassifier(), param_grid, cv=rs)\n",
    "\n",
    "    # Ajustar el modelo a los datos\n",
    "    clf.fit(X, y)\n",
    "\n",
    "    # Obtener el mejor estimador\n",
    "    best_estimator = clf.best_estimator_\n",
    "\n",
    "    # Obtener predicciones\n",
    "    pred_train = best_estimator.predict(X)\n",
    "    pred_test = best_estimator.predict(Xtest)\n",
    "\n",
    "    # Calcular precisión\n",
    "    accTrain = metrics.accuracy_score(pred_train, y)\n",
    "    accTest = metrics.accuracy_score(pred_test, ytest)\n",
    "    best_params = clf.best_params_\n",
    "\n",
    "    return  best_params, accTrain, accTest"
   ],
   "metadata": {
    "collapsed": false
   }
  },
  {
   "cell_type": "code",
   "execution_count": 23,
   "outputs": [],
   "source": [
    "def SVC_test(X, y, Xtest, ytest):\n",
    "    \"\"\"\n",
    "    Carga los datos de ejemplos y etiquetas y realiza una prueba de clasificador svc utilizando validación cruzada y búsqueda de rejilla.\n",
    "\n",
    "    :param ndarray X: Array NumPy con los datos de ejemplos para entrenamiento.\n",
    "    :param ndarray y: Array NumPy con las etiquetas de los ejemplos de entrenamiento.\n",
    "    :param ndarray Xtest: Array NumPy con los datos de ejemplos para pruebas.\n",
    "    :param ndarray ytest: Array NumPy con las etiquetas de los ejemplos de pruebas.\n",
    "    :return:\n",
    "    tuple best_params, accTrain, accTest: Tupla con el mejor conjunto de parámetros encontrado, el porcentaje de acierto en el conjunto de entrenamiento y el porcentaje de acierto en el conjunto de pruebas, respectivamente.\n",
    "    \"\"\"\n",
    "    # Configurar validación cruzada con ShuffleSplit y búsqueda de grilla con GridSearchCV\n",
    "    rs = ShuffleSplit(n_splits=5, test_size=0.2, random_state=42)\n",
    "    param_grid = {'C': [0.01, 0.03, 0.1, 0.3, 1, 3], 'gamma': [0.01, 0.03, 0.1, 0.3, 1, 3]}\n",
    "    clf = GridSearchCV(svm.SVC(), param_grid, n_jobs=-1, cv=rs)\n",
    "\n",
    "    # Ajustar el modelo a los datos\n",
    "    clf.fit(X, y)\n",
    "\n",
    "    # Obtener el mejor estimador\n",
    "    best_estimator = clf.best_estimator_\n",
    "\n",
    "    # Obtener predicciones\n",
    "    pred_train = best_estimator.predict(X)\n",
    "    pred_test = best_estimator.predict(Xtest)\n",
    "\n",
    "    # Calcular la precisión\n",
    "    accTrain = metrics.accuracy_score(pred_train, y)\n",
    "    accTest = metrics.accuracy_score(pred_test, ytest)\n",
    "\n",
    "    best_params = clf.best_params_\n",
    "\n",
    "    return best_params, accTrain, accTest"
   ],
   "metadata": {
    "collapsed": false
   }
  },
  {
   "cell_type": "code",
   "execution_count": 24,
   "outputs": [],
   "source": [
    "def RandomForest_test(X, y, Xtest, ytest):\n",
    "    \"\"\"\n",
    "    Carga los datos de ejemplos y etiquetas y realiza una prueba de clasificador encemble de random forest utilizando validación cruzada y búsqueda de rejilla.\n",
    "\n",
    "    :param ndarray X: Array NumPy con los datos de ejemplos para entrenamiento.\n",
    "    :param ndarray y: Array NumPy con las etiquetas de los ejemplos de entrenamiento.\n",
    "    :param ndarray Xtest: Array NumPy con los datos de ejemplos para pruebas.\n",
    "    :param ndarray ytest: Array NumPy con las etiquetas de los ejemplos de pruebas.\n",
    "    :return:\n",
    "    tuple best_params, accTrain, accTest: Tupla con el mejor conjunto de parámetros encontrado, el porcentaje de acierto en el conjunto de entrenamiento y el porcentaje de acierto en el conjunto de pruebas, respectivamente.\n",
    "    \"\"\"\n",
    "    # Set up cross-validation with ShuffleSplit and grid search with GridSearchCV\n",
    "    rs = ShuffleSplit(n_splits=5, test_size=0.2, random_state=42)\n",
    "    param_grid = {'n_estimators': [10, 50, 100, 200],\n",
    "                  'max_depth': [5, 10, 15],\n",
    "                  'max_features': ['log2', 'sqrt'],\n",
    "                  'criterion': ['entropy', 'gini']}\n",
    "    clf = GridSearchCV(RandomForestClassifier(), param_grid, n_jobs=-1, cv=rs)\n",
    "\n",
    "    # Fit the model to the data\n",
    "    clf.fit(X, y)\n",
    "\n",
    "    # Get the best estimator\n",
    "    best_estimator = clf.best_estimator_\n",
    "\n",
    "    # Obtain predictions\n",
    "    pred_train = best_estimator.predict(X)\n",
    "    pred_test = best_estimator.predict(Xtest)\n",
    "\n",
    "    # Calculate accuracy\n",
    "    accTrain = metrics.accuracy_score(pred_train, y)\n",
    "    accTest = metrics.accuracy_score(pred_test, ytest)\n",
    "\n",
    "    best_params = clf.best_params_\n",
    "\n",
    "    return best_params, accTrain, accTest"
   ],
   "metadata": {
    "collapsed": false
   }
  },
  {
   "cell_type": "markdown",
   "source": [
    "#### <a name=\"S3P2\"></a>2. Prueba de parametros"
   ],
   "metadata": {
    "collapsed": false
   }
  },
  {
   "cell_type": "code",
   "execution_count": 25,
   "outputs": [
    {
     "name": "stderr",
     "output_type": "stream",
     "text": [
      "  0%|          | 0/18 [00:00<?, ?it/s]C:\\Users\\ivons\\miniconda3\\envs\\py38ml\\lib\\site-packages\\sklearn\\neural_network\\_multilayer_perceptron.py:549: ConvergenceWarning: lbfgs failed to converge (status=2):\n",
      "ABNORMAL_TERMINATION_IN_LNSRCH.\n",
      "\n",
      "Increase the number of iterations (max_iter) or scale the data as shown in:\n",
      "    https://scikit-learn.org/stable/modules/preprocessing.html\n",
      "  self.n_iter_ = _check_optimize_result(\"lbfgs\", opt_res, self.max_iter)\n",
      " 44%|████▍     | 8/18 [13:30<07:47, 46.79s/it]   C:\\Users\\ivons\\miniconda3\\envs\\py38ml\\lib\\site-packages\\sklearn\\neural_network\\_multilayer_perceptron.py:549: ConvergenceWarning: lbfgs failed to converge (status=1):\n",
      "STOP: TOTAL NO. of ITERATIONS REACHED LIMIT.\n",
      "\n",
      "Increase the number of iterations (max_iter) or scale the data as shown in:\n",
      "    https://scikit-learn.org/stable/modules/preprocessing.html\n",
      "  self.n_iter_ = _check_optimize_result(\"lbfgs\", opt_res, self.max_iter)\n",
      " 56%|█████▌    | 10/18 [14:09<04:18, 32.28s/it]C:\\Users\\ivons\\miniconda3\\envs\\py38ml\\lib\\site-packages\\sklearn\\neural_network\\_multilayer_perceptron.py:549: ConvergenceWarning: lbfgs failed to converge (status=1):\n",
      "STOP: TOTAL NO. of ITERATIONS REACHED LIMIT.\n",
      "\n",
      "Increase the number of iterations (max_iter) or scale the data as shown in:\n",
      "    https://scikit-learn.org/stable/modules/preprocessing.html\n",
      "  self.n_iter_ = _check_optimize_result(\"lbfgs\", opt_res, self.max_iter)\n",
      " 83%|████████▎ | 15/18 [16:18<01:30, 30.17s/it]C:\\Users\\ivons\\miniconda3\\envs\\py38ml\\lib\\site-packages\\sklearn\\neural_network\\_multilayer_perceptron.py:549: ConvergenceWarning: lbfgs failed to converge (status=2):\n",
      "ABNORMAL_TERMINATION_IN_LNSRCH.\n",
      "\n",
      "Increase the number of iterations (max_iter) or scale the data as shown in:\n",
      "    https://scikit-learn.org/stable/modules/preprocessing.html\n",
      "  self.n_iter_ = _check_optimize_result(\"lbfgs\", opt_res, self.max_iter)\n",
      "100%|██████████| 18/18 [18:35<00:00, 61.99s/it]\n"
     ]
    }
   ],
   "source": [
    "from itertools import product\n",
    "\n",
    "n_cells = 84 # Número de celdas en las que se desea dividir las imágenes\n",
    "n = 100 # dataset\n",
    "\n",
    "# Posibles valores a combinar\n",
    "colorized_values = [True, False]\n",
    "extraction_model_values = ['base', 'grad']\n",
    "version_values = ['v1', 'v2', 'v3']\n",
    "M_values = [2, 4, 6]\n",
    "grad_type_values = ['prewitt', 'sobel']\n",
    "\n",
    "# Generamos las posibles combinaciones de parametros\n",
    "param_combinations = list(product(colorized_values, extraction_model_values, version_values, M_values, grad_type_values))\n",
    "\n",
    "#Filtramos casos\n",
    "filtered_param_combinations=[]\n",
    "for colorized, extraction_model, version, M, grad_type in param_combinations:\n",
    "    # Omitimos combinaciones no compatibles\n",
    "    if colorized and extraction_model == 'grad':\n",
    "        continue\n",
    "    if extraction_model == 'base' and version == 'v3':\n",
    "        continue\n",
    "    if extraction_model == 'grad' and version != 'v2' and version != 'v3' and M != 2:\n",
    "        continue\n",
    "    if extraction_model == 'base' and (M != 2 or grad_type != 'prewitt'):\n",
    "        continue\n",
    "    filtered_param_combinations.append((colorized, extraction_model, version, M, grad_type))\n",
    "\n",
    "results = {}\n",
    "\n",
    "# Iteramos sobre las combinaciones\n",
    "for colorized, extraction_model, version, M, grad_type in tqdm(filtered_param_combinations,leave=True):\n",
    "\n",
    "    color = 'color' if colorized else 'grayscale'\n",
    "\n",
    "    # Cargamos los datos para esta combinacion en particular\n",
    "    X, y, Xtest, ytest = load_extracted_characteristics(f'{n_cells}/{color}_{extraction_model}_{version}_{M}_{grad_type}')\n",
    "\n",
    "\n",
    "    params, accTrain, accTest = LogisticRegression_test(X, y, Xtest, ytest)\n",
    "\n",
    "    results[(color, extraction_model, version, M, grad_type, 'LogisticRegression')] = (params, accTrain, accTest)\n",
    "\n",
    "\n",
    "    params, accTrain, accTest = MultinomialNB_test(X, y, Xtest, ytest)\n",
    "\n",
    "    results[(color, extraction_model, version, M, grad_type, 'MultinomialNB')] = (params, accTrain, accTest)\n",
    "\n",
    "\n",
    "    params, accTrain, accTest = MLPClassifier_test(X, y, Xtest, ytest)\n",
    "\n",
    "    results[(color, extraction_model, version, M, grad_type, 'MLPClassifier')] = (params, accTrain, accTest)\n",
    "\n",
    "\n",
    "    params, accTrain, accTest = SVC_test(X, y, Xtest, ytest)\n",
    "\n",
    "    results[(color, extraction_model, version, M, grad_type, 'SVC')] = (params, accTrain, accTest)\n",
    "\n",
    "\n",
    "    params, accTrain, accTest = RandomForest_test(X, y, Xtest, ytest)\n",
    "\n",
    "    results[(color, extraction_model, version, M, grad_type, 'RandomForest')] = (params, accTrain, accTest)\n",
    "\n",
    "\n"
   ],
   "metadata": {
    "collapsed": false
   }
  },
  {
   "cell_type": "code",
   "execution_count": 79,
   "outputs": [
    {
     "name": "stdout",
     "output_type": "stream",
     "text": [
      "Best combination of parameters: ('color', 'base', 'v1', 2, 'prewitt', 'SVC')\n",
      "Best test accuracy: 1.0\n",
      "1. Combination of parameters: ('color', 'base', 'v1', 2, 'prewitt', 'SVC'): {'C': 0.01, 'gamma': 0.01}, trainAcc:1.0, testAcc:1.0\n",
      "2. Combination of parameters: ('color', 'base', 'v2', 2, 'prewitt', 'SVC'): {'C': 0.01, 'gamma': 0.01}, trainAcc:1.0, testAcc:1.0\n",
      "3. Combination of parameters: ('grayscale', 'base', 'v1', 2, 'prewitt', 'SVC'): {'C': 0.01, 'gamma': 0.01}, trainAcc:1.0, testAcc:1.0\n",
      "4. Combination of parameters: ('grayscale', 'base', 'v2', 2, 'prewitt', 'SVC'): {'C': 0.01, 'gamma': 0.01}, trainAcc:1.0, testAcc:1.0\n",
      "5. Combination of parameters: ('grayscale', 'grad', 'v3', 6, 'prewitt', 'SVC'): {'C': 3, 'gamma': 1}, trainAcc:1.0, testAcc:0.95\n",
      "6. Combination of parameters: ('grayscale', 'grad', 'v3', 2, 'sobel', 'RandomForest'): {'criterion': 'entropy', 'max_depth': 5, 'max_features': 'log2', 'n_estimators': 100}, trainAcc:0.995, testAcc:0.925\n",
      "7. Combination of parameters: ('color', 'base', 'v2', 2, 'prewitt', 'LogisticRegression'): {'C': 1, 'max_iter': 200, 'solver': 'newton-cg'}, trainAcc:1.0, testAcc:0.9\n",
      "8. Combination of parameters: ('grayscale', 'base', 'v1', 2, 'prewitt', 'MLPClassifier'): {'hidden_layer_sizes': 15, 'max_iter': 200, 'solver': 'lbfgs'}, trainAcc:1.0, testAcc:0.9\n",
      "9. Combination of parameters: ('grayscale', 'grad', 'v2', 2, 'sobel', 'RandomForest'): {'criterion': 'entropy', 'max_depth': 5, 'max_features': 'sqrt', 'n_estimators': 100}, trainAcc:0.98, testAcc:0.9\n",
      "10. Combination of parameters: ('grayscale', 'grad', 'v2', 4, 'sobel', 'SVC'): {'C': 1, 'gamma': 3}, trainAcc:0.995, testAcc:0.9\n",
      "11. Combination of parameters: ('grayscale', 'grad', 'v3', 6, 'prewitt', 'MLPClassifier'): {'hidden_layer_sizes': 15, 'max_iter': 250, 'solver': 'lbfgs'}, trainAcc:1.0, testAcc:0.9\n",
      "12. Combination of parameters: ('grayscale', 'grad', 'v3', 6, 'sobel', 'LogisticRegression'): {'C': 1, 'max_iter': 200, 'solver': 'newton-cg'}, trainAcc:0.945, testAcc:0.9\n",
      "13. Combination of parameters: ('grayscale', 'grad', 'v3', 6, 'sobel', 'MLPClassifier'): {'hidden_layer_sizes': 15, 'max_iter': 250, 'solver': 'lbfgs'}, trainAcc:1.0, testAcc:0.9\n",
      "14. Combination of parameters: ('color', 'base', 'v1', 2, 'prewitt', 'LogisticRegression'): {'C': 1, 'max_iter': 200, 'solver': 'newton-cg'}, trainAcc:1.0, testAcc:0.875\n",
      "15. Combination of parameters: ('grayscale', 'base', 'v1', 2, 'prewitt', 'LogisticRegression'): {'C': 1, 'max_iter': 200, 'solver': 'newton-cg'}, trainAcc:1.0, testAcc:0.875\n",
      "16. Combination of parameters: ('grayscale', 'base', 'v2', 2, 'prewitt', 'LogisticRegression'): {'C': 1, 'max_iter': 200, 'solver': 'newton-cg'}, trainAcc:1.0, testAcc:0.875\n",
      "17. Combination of parameters: ('grayscale', 'grad', 'v2', 4, 'prewitt', 'SVC'): {'C': 1, 'gamma': 3}, trainAcc:0.995, testAcc:0.875\n",
      "18. Combination of parameters: ('grayscale', 'grad', 'v3', 2, 'prewitt', 'RandomForest'): {'criterion': 'gini', 'max_depth': 5, 'max_features': 'sqrt', 'n_estimators': 200}, trainAcc:1.0, testAcc:0.875\n",
      "19. Combination of parameters: ('grayscale', 'grad', 'v3', 2, 'sobel', 'SVC'): {'C': 1, 'gamma': 0.1}, trainAcc:1.0, testAcc:0.875\n",
      "20. Combination of parameters: ('grayscale', 'grad', 'v3', 4, 'sobel', 'RandomForest'): {'criterion': 'entropy', 'max_depth': 15, 'max_features': 'sqrt', 'n_estimators': 50}, trainAcc:1.0, testAcc:0.875\n"
     ]
    }
   ],
   "source": [
    "best_params = max(results, key=lambda x: results[x][-1])\n",
    "best_accuracy = results[best_params]\n",
    "print(f\"Best combination of parameters: {best_params}\")\n",
    "print(f\"Best test accuracy: {best_accuracy[-1]}\")\n",
    "\n",
    "top_n = 20\n",
    "sorted_results = sorted(results.items(), key=lambda x: x[1][-1], reverse=True)[:top_n]\n",
    "\n",
    "for i, (params, (model_params, train_acc, test_acc)) in enumerate(sorted_results):\n",
    "    print(f\"{i+1}. Combination of parameters: {params}: {model_params}, trainAcc:{train_acc}, testAcc:{test_acc}\")"
   ],
   "metadata": {
    "collapsed": false
   }
  },
  {
   "cell_type": "code",
   "execution_count": 77,
   "outputs": [
    {
     "data": {
      "text/plain": "<Figure size 640x480 with 1 Axes>",
      "image/png": "[encoded data removed]"
     },
     "metadata": {},
     "output_type": "display_data"
    },
    {
     "name": "stdout",
     "output_type": "stream",
     "text": [
      "1 ('color', 'base', 'v1', 2, 'prewitt', 'SVC'):{'C': 0.01, 'gamma': 0.01}\n",
      "2 ('color', 'base', 'v2', 2, 'prewitt', 'SVC'):{'C': 0.01, 'gamma': 0.01}\n",
      "3 ('grayscale', 'base', 'v1', 2, 'prewitt', 'SVC'):{'C': 0.01, 'gamma': 0.01}\n",
      "4 ('grayscale', 'base', 'v2', 2, 'prewitt', 'SVC'):{'C': 0.01, 'gamma': 0.01}\n",
      "5 ('grayscale', 'grad', 'v3', 6, 'prewitt', 'SVC'):{'C': 3, 'gamma': 1}\n",
      "6 ('grayscale', 'grad', 'v3', 2, 'sobel', 'RandomForest'):{'criterion': 'entropy', 'max_depth': 5, 'max_features': 'log2', 'n_estimators': 100}\n",
      "7 ('color', 'base', 'v2', 2, 'prewitt', 'LogisticRegression'):{'C': 1, 'max_iter': 200, 'solver': 'newton-cg'}\n",
      "8 ('grayscale', 'base', 'v1', 2, 'prewitt', 'MLPClassifier'):{'hidden_layer_sizes': 15, 'max_iter': 200, 'solver': 'lbfgs'}\n",
      "9 ('grayscale', 'grad', 'v2', 2, 'sobel', 'RandomForest'):{'criterion': 'entropy', 'max_depth': 5, 'max_features': 'sqrt', 'n_estimators': 100}\n",
      "10 ('grayscale', 'grad', 'v2', 4, 'sobel', 'SVC'):{'C': 1, 'gamma': 3}\n",
      "11 ('grayscale', 'grad', 'v3', 6, 'prewitt', 'MLPClassifier'):{'hidden_layer_sizes': 15, 'max_iter': 250, 'solver': 'lbfgs'}\n",
      "12 ('grayscale', 'grad', 'v3', 6, 'sobel', 'LogisticRegression'):{'C': 1, 'max_iter': 200, 'solver': 'newton-cg'}\n",
      "13 ('grayscale', 'grad', 'v3', 6, 'sobel', 'MLPClassifier'):{'hidden_layer_sizes': 15, 'max_iter': 250, 'solver': 'lbfgs'}\n",
      "14 ('color', 'base', 'v1', 2, 'prewitt', 'LogisticRegression'):{'C': 1, 'max_iter': 200, 'solver': 'newton-cg'}\n",
      "15 ('grayscale', 'base', 'v1', 2, 'prewitt', 'LogisticRegression'):{'C': 1, 'max_iter': 200, 'solver': 'newton-cg'}\n",
      "16 ('grayscale', 'base', 'v2', 2, 'prewitt', 'LogisticRegression'):{'C': 1, 'max_iter': 200, 'solver': 'newton-cg'}\n",
      "17 ('grayscale', 'grad', 'v2', 4, 'prewitt', 'SVC'):{'C': 1, 'gamma': 3}\n",
      "18 ('grayscale', 'grad', 'v3', 2, 'prewitt', 'RandomForest'):{'criterion': 'gini', 'max_depth': 5, 'max_features': 'sqrt', 'n_estimators': 200}\n",
      "19 ('grayscale', 'grad', 'v3', 2, 'sobel', 'SVC'):{'C': 1, 'gamma': 0.1}\n",
      "20 ('grayscale', 'grad', 'v3', 4, 'sobel', 'RandomForest'):{'criterion': 'entropy', 'max_depth': 15, 'max_features': 'sqrt', 'n_estimators': 50}\n"
     ]
    }
   ],
   "source": [
    "import matplotlib.pyplot as plt\n",
    "\n",
    "# Sort the dictionary by test accuracy\n",
    "sorted_dict = dict(sorted(results.items(), key=lambda x: x[1][2], reverse=True))\n",
    "\n",
    "# Get the top n entries\n",
    "n = 20\n",
    "top_n = dict(list(sorted_dict.items())[:n])\n",
    "\n",
    "# Extract the numeric values from the keys\n",
    "x_values = list(range(1,n+1))\n",
    "\n",
    "# Plot the results\n",
    "fig, ax = plt.subplots()\n",
    "\n",
    "bar_width = 0.35\n",
    "ax.bar(x_values, [x[2] for x in top_n.values()], width=bar_width, label='Test Accuracy')\n",
    "ax.bar([x+bar_width for x in x_values], [x[1] for x in top_n.values()], width=bar_width, label='Train Accuracy')\n",
    "ax.legend(fontsize=8)\n",
    "\n",
    "# Add the grid\n",
    "ax.grid(linestyle='-.', which='major', axis='y', alpha=0.8, linewidth=0.5)\n",
    "ax.grid(which='minor', linestyle='-.', alpha=0.8)\n",
    "\n",
    "# Add the parameters as text labels\n",
    "names=[]\n",
    "for i, key in enumerate(top_n.keys()):\n",
    "    names.append(f'{key}:{top_n[key][0]}')\n",
    "\n",
    "ax.set_xticks(x_values)\n",
    "\n",
    "plt.show()\n",
    "for i, word in enumerate(names):\n",
    "    print(i+1, word)"
   ],
   "metadata": {
    "collapsed": false
   }
  },
  {
   "cell_type": "markdown",
   "source": [
    "#### <a name=\"S3P3\"></a>3. Prueba final"
   ],
   "metadata": {
    "collapsed": false
   }
  },
  {
   "cell_type": "code",
   "execution_count": 81,
   "outputs": [
    {
     "name": "stdout",
     "output_type": "stream",
     "text": [
      "Extraccion con:('grayscale', 'grad', 'v3', 6, 'prewitt')\n",
      "Loading datasets(500)\n"
     ]
    },
    {
     "name": "stderr",
     "output_type": "stream",
     "text": [
      "100%|██████████| 1000/1000 [00:01<00:00, 594.02it/s]\n",
      "100%|██████████| 1000/1000 [00:03<00:00, 290.37it/s]\n",
      "100%|██████████| 200/200 [00:00<00:00, 340.39it/s]\n",
      "100%|██████████| 200/200 [00:00<00:00, 280.92it/s]\n",
      "100%|██████████| 1000/1000 [00:02<00:00, 440.81it/s]\n",
      "100%|██████████| 1000/1000 [00:02<00:00, 359.87it/s]\n",
      "100%|██████████| 200/200 [00:00<00:00, 406.03it/s]\n",
      "100%|██████████| 200/200 [00:00<00:00, 410.10it/s]\n"
     ]
    },
    {
     "name": "stdout",
     "output_type": "stream",
     "text": [
      "Extracting characteristics (grayscale)\n"
     ]
    },
    {
     "name": "stderr",
     "output_type": "stream",
     "text": [
      "100%|██████████| 500/500 [08:12<00:00,  1.02it/s]\n"
     ]
    },
    {
     "name": "stdout",
     "output_type": "stream",
     "text": [
      "tamaño de referencia: (4536,)\n",
      "descarte :61 con tamaño: (2916,)\n",
      "descarte :99 con tamaño: (2916,)\n",
      "descarte :205 con tamaño: (2916,)\n",
      "descarte :218 con tamaño: (2916,)\n",
      "descarte :229 con tamaño: (2916,)\n",
      "descarte :362 con tamaño: (2916,)\n",
      "descarte :426 con tamaño: (2916,)\n",
      "tamaño de dataset 500 -> 493\n"
     ]
    },
    {
     "name": "stderr",
     "output_type": "stream",
     "text": [
      "100%|██████████| 500/500 [08:55<00:00,  1.07s/it]\n"
     ]
    },
    {
     "name": "stdout",
     "output_type": "stream",
     "text": [
      "tamaño de referencia: (4536,)\n",
      "descarte :199 con tamaño: (2916,)\n",
      "descarte :249 con tamaño: (2916,)\n",
      "descarte :292 con tamaño: (2916,)\n",
      "descarte :313 con tamaño: (2916,)\n",
      "tamaño de dataset 500 -> 496\n"
     ]
    },
    {
     "name": "stderr",
     "output_type": "stream",
     "text": [
      "100%|██████████| 100/100 [01:46<00:00,  1.07s/it]\n"
     ]
    },
    {
     "name": "stdout",
     "output_type": "stream",
     "text": [
      "tamaño de referencia: (4536,)\n",
      "tamaño de dataset 100 -> 100\n"
     ]
    },
    {
     "name": "stderr",
     "output_type": "stream",
     "text": [
      "100%|██████████| 100/100 [01:35<00:00,  1.04it/s]\n"
     ]
    },
    {
     "name": "stdout",
     "output_type": "stream",
     "text": [
      "tamaño de referencia: (4536,)\n",
      "tamaño de dataset 100 -> 100\n",
      "Clasificacion con SVC con parametros: {'C': 3, 'gamma': 1}\n",
      "Precisión en Train: 1.0\n",
      "Precisión en Test: 0.94\n"
     ]
    }
   ],
   "source": [
    "n_cells = 84\n",
    "n = 500\n",
    "configuracion = 4 # Elegimos una de las configuraciones observadas en la lista anterior 'sorted_results'\n",
    "\n",
    "(params, (model_params, train_acc, test_acc)) = sorted_results[configuracion]\n",
    "\n",
    "colorized = True if params[0]=='color' else False\n",
    "extraction_model = params[1]\n",
    "version = params[2]\n",
    "M = params[3]\n",
    "grad_type = params[4]\n",
    "\n",
    "print(f'Extraccion con:{params[:-1]}')\n",
    "\n",
    "X, y, Xtest, ytest = extract_combine_datasets(load_combine_datasets(n=n, n_cells=n_cells), colorized=colorized,\n",
    "                                              extraction_model=extraction_model, version=version, M=M, grad_type=grad_type)\n",
    "\n",
    "classiffier = params[5]\n",
    "\n",
    "if classiffier == 'LogisticRegression':\n",
    "    print(f'Clasificacion con LogisticRegression con parametros: {model_params}')\n",
    "    LogReg = LogisticRegression(C=model_params['C'], max_iter=model_params['max_iter'], solver=model_params['solver'])\n",
    "    LogReg.fit(X, y)\n",
    "    pred_train = LogReg.predict(X)\n",
    "    pred_test = LogReg.predict(Xtest)\n",
    "    accTrain = metrics.accuracy_score(pred_train, y)\n",
    "    accTest = metrics.accuracy_score(pred_test, ytest)\n",
    "\n",
    "    print(f'Precisión en Train: {accTrain}')\n",
    "    print(f'Precisión en Test: {accTest}')\n",
    "\n",
    "\n",
    "elif classiffier == 'MultinomialNB':\n",
    "    print(f'Clasificacion con MultinomialNB con parametros: {model_params}')\n",
    "    MultiNB = MultinomialNB(alpha=model_params['alpha'])\n",
    "    MultiNB.fit(X, y)\n",
    "    pred_train = MultiNB.predict(X)\n",
    "    pred_test = MultiNB.predict(Xtest)\n",
    "    accTrain = metrics.accuracy_score(pred_train, y)\n",
    "    accTest = metrics.accuracy_score(pred_test, ytest)\n",
    "\n",
    "    print(f'Precisión en Train: {accTrain}')\n",
    "    print(f'Precisión en Test: {accTest}')\n",
    "\n",
    "elif classiffier == 'MLPClassifier':\n",
    "    print(f'Clasificacion con MLPClassifier con parametros: {model_params}')\n",
    "    MLPClass = MLPClassifier(hidden_layer_sizes=model_params['hidden_layer_sizes'], max_iter=model_params['max_iter'], solver=model_params['solver'])\n",
    "    MLPClass.fit(X, y)\n",
    "    pred_train = MLPClass.predict(X)\n",
    "    pred_test = MLPClass.predict(Xtest)\n",
    "    accTrain = metrics.accuracy_score(pred_train, y)\n",
    "    accTest = metrics.accuracy_score(pred_test, ytest)\n",
    "\n",
    "    print(f'Precisión en Train: {accTrain}')\n",
    "    print(f'Precisión en Test: {accTest}')\n",
    "\n",
    "elif classiffier == 'SVC':\n",
    "    print(f'Clasificacion con SVC con parametros: {model_params}')\n",
    "    SVC = svm.SVC(C=model_params['C'], gamma=model_params['gamma'])\n",
    "    SVC.fit(X, y)\n",
    "    pred_train = SVC.predict(X)\n",
    "    pred_test = SVC.predict(Xtest)\n",
    "    accTrain = metrics.accuracy_score(pred_train, y)\n",
    "    accTest = metrics.accuracy_score(pred_test, ytest)\n",
    "\n",
    "    print(f'Precisión en Train: {accTrain}')\n",
    "    print(f'Precisión en Test: {accTest}')\n",
    "\n",
    "elif classiffier == 'RandomForestClassifier':\n",
    "    print(f'Clasificacion con RandomForestClassifier con parametros: {model_params}')\n",
    "    RaFoCla = RandomForestClassifier(n_estimators=model_params['n_estimators'], max_depth=model_params['max_depth'],\n",
    "                                     max_features=model_params['max_features'],criterion=model_params['criterion'])\n",
    "    RaFoCla.fit(X, y)\n",
    "    pred_train = RaFoCla.predict(X)\n",
    "    pred_test = RaFoCla.predict(Xtest)\n",
    "    accTrain = metrics.accuracy_score(pred_train, y)\n",
    "    accTest = metrics.accuracy_score(pred_test, ytest)\n",
    "\n",
    "    print(f'Precisión en Train: {accTrain}')\n",
    "    print(f'Precisión en Test: {accTest}')"
   ],
   "metadata": {
    "collapsed": false
   }
  },
  {
   "cell_type": "code",
   "execution_count": null,
   "outputs": [],
   "source": [],
   "metadata": {
    "collapsed": false
   }
  }
 ],
 "metadata": {
  "kernelspec": {
   "display_name": "Python 3 (ipykernel)",
   "language": "python",
   "name": "python3"
  },
  "language_info": {
   "codemirror_mode": {
    "name": "ipython",
    "version": 3
   },
   "file_extension": ".py",
   "mimetype": "text/x-python",
   "name": "python",
   "nbconvert_exporter": "python",
   "pygments_lexer": "ipython3",
   "version": "3.8.10"
  }
 },
 "nbformat": 4,
 "nbformat_minor": 5
}
